{
 "cells": [
  {
   "cell_type": "markdown",
   "id": "VtECoCggrYR4",
   "metadata": {
    "id": "VtECoCggrYR4"
   },
   "source": [
    "| Nombre del Proyecto  |  F413ZH_ReguladorTemperatura |\n",
    "|:----------|:-------------|\n",
    "| **Autores(S)**| 33293, Daniel Agraz Vallejo<br>28241, Michelle Andrea Muñiz Lopez<br> 33892, Stephanie Gonzalez |\n",
    "| **Ultima Actualizacion** |  30 de noviembre de 2022 | "
   ]
  },
  {
   "cell_type": "markdown",
   "id": "qclyCFXk1bMz",
   "metadata": {
    "id": "qclyCFXk1bMz"
   },
   "source": [
    "<center>\n",
    "<img src=\"../img/TechnoTemperatureLogo.jpeg\" alt=\"Logo\">\n",
    "</center>"
   ]
  },
  {
   "cell_type": "markdown",
   "id": "GDvJAZxvrYSK",
   "metadata": {
    "id": "GDvJAZxvrYSK"
   },
   "source": [
    "### <span style=\"color:blue\">Planteamiento del problema</span>\n",
    "\n",
    "Para este proyecto se busca realizar un sistema que permita identificar la temperatura de cada dedo diferente a traves de un arreglo de sensores para poder determinar el promedio general de la temperatura de las personas. Dando como consiguiente en que si al presionar el sensor con dedo frio, la temperatura baja, en cambio si el dedo esta caliente la temperatura sube. Se busca la optimización de este sistema, que a su vez, también aporta a que al rango de personas tengan una temperatura normal, debido a que la mayoria tengan la temperaturas altas o bajas pueden modificar las tasas metabólicas, alterar la función de los órganos y provocar daños en los tejidos."
   ]
  },
  {
   "cell_type": "markdown",
   "id": "FHu4mtS7rYSN",
   "metadata": {
    "id": "FHu4mtS7rYSN"
   },
   "source": [
    "### <span style=\"color:blue\">Requerimientos de Hardware</span>\n",
    "\n",
    "\n",
    "|Componente|Cantidad|Características|Imagen|\n",
    "|:---|:---|:-----|:---:|\n",
    "|STM32 F413ZHT6|1| Microncontrolador de Núcleo-144|<img src=\"../img/STM32HAL.jpeg\" alt=\"MCU\" width=\"150\" eight=\"150\">|\n",
    "|ATWINC1500 |1| Módulo de Comunicación<br> |<img src=\"../img/ATWINC1500.jpeg\" alt=\"Módulo de Comunicación AdaFruit\" width=\"150\" eight=\"150\">|\n",
    "|Cables Macho|13| Alambres de conexión| <img src=\"../img/CablesMacho.jpeg\"  alt=\"Cables Macho\" width=\"150\" eight=\"150\">\n",
    "|Sensor LM35|4| Sensor de Temperatura| <img src=\"../img/LM35.jpg\" alt=\"Sensor de Temperatura\" width=\"150\">\n",
    "|Breadboard MB-102|1|Placa de pruebas| <img src=\"../img/Breadboard.jpeg\" alt=\"Breadboard\" width=\"150\">\n",
    "\n",
    "\n",
    "\n"
   ]
  },
  {
   "cell_type": "markdown",
   "id": "ugHxd4hS1bM0",
   "metadata": {
    "id": "ugHxd4hS1bM0"
   },
   "source": [
    "### <span style=\"color:blue\">Implementacion de la Arquitectura</span>\n",
    "\n",
    "<center>\n",
    "<img src=\"../img/ProtoBoardSetupFinal.jpeg\" alt=\"Esquemático\" width=\"300\" eight=\"300\">\n",
    "</center>\n"
   ]
  },
  {
   "cell_type": "markdown",
   "id": "l3L59qlWrYSR",
   "metadata": {
    "id": "l3L59qlWrYSR"
   },
   "source": [
    "### <span style=\"color:blue\">Esquema Hardware</span>\n",
    "\n",
    "<center>\n",
    "<img src=\"../img/EsquematicoFinal.png\" alt=\"Esquemático\">\n",
    "</center>"
   ]
  },
  {
   "cell_type": "markdown",
   "id": "9de43045",
   "metadata": {},
   "source": [
    "### <span style=\"color:blue\">Configuración Sensores</span>\n",
    "\n",
    "<center>\n",
    "<img src=\"../img/SensorsHardwareSetup.png\" alt=\"Esquemático\">\n",
    "</center>"
   ]
  },
  {
   "cell_type": "markdown",
   "id": "C5jtdblGKdU0",
   "metadata": {
    "id": "C5jtdblGKdU0"
   },
   "source": [
    "### <span style=\"color:blue\">CubeMX Parameters</span>\n",
    "|Class|Attribute|Value|\n",
    "|:---|:---|:---:|\n",
    "|<b>Project</b>|Name|F413ZHT6_ReguladorTemperatura|\n",
    "||Clock|16Mhz|\n",
    "||Timebase Source|TIM1\n",
    "|<b>STM32 Pins</b>\n",
    "||PA3|Set PA3 to ADC1_IN3|\n",
    "||PC0|Set PC0 to ADC1_IN10|\n",
    "||PC3|Set PC3 to ADC1_IN13|\n",
    "||PC1|Set PC1 to ADC1_IN11|\n",
    "||PD8|Set PD8 to USART3_TX|\n",
    "||PD9|Set PD9 to USART3_RX|\n",
    "||PA13|Set PA13 to SYS_JTMS-SWDIO|\n",
    "||PA14|Set PA14 to SYS_JTCK-SWCLK|\n",
    "|<b>ADC1</b>|Mode|IN3, IN10, IN11, IN13|\n",
    "|Parameter Settings|Continuous Conversion Mode|Enabled|\n",
    "|<b>USART3</b>|Mode|Asynchronous|\n",
    "|Basic Parameters|Baud Rate| 115200 Bits/s|\n",
    "||Word Length|8 Bits|\n",
    "||Parity|None|\n",
    "||Stop Bits|1|\n",
    "|<b>FreeRTOS</b>| API | CMSIS v1|"
   ]
  },
  {
   "cell_type": "markdown",
   "id": "d79dadad",
   "metadata": {},
   "source": [
    "|Task/Interrupt|Type|Name|Entry Function| $w_{j}$ | Port |\n",
    "|:---|:---|:---:|:---|:---|:---|\n",
    "|1|Persistent|ReadSensor1|StartTask1|osPriority AboveNormal|PA3\n",
    "|2|Persistent|ReadSensor2|StartTask2|osPriority Normal|PC0\n",
    "|3|Persistent|ReadSensor3|StartTask3|osPriority BelowNormal|PC3\n",
    "|4|Persistent|ReadSensor4|StartTask4|osPriority Low|PC1\n",
    "|5|Periodic|TransmitData|CommsTask|osPriority Normal|"
   ]
  },
  {
   "cell_type": "markdown",
   "id": "9b82c280",
   "metadata": {
    "id": "EhLhtdj-1bM1"
   },
   "source": [
    "### <span style=\"color:blue\">Componentes de Software</span>\n"
   ]
  },
  {
   "cell_type": "code",
   "execution_count": null,
   "id": "0tT7xNp81bM1",
   "metadata": {
    "id": "0tT7xNp81bM1"
   },
   "outputs": [],
   "source": [
    "/* Private user code ---------------------------------------------------------*/\n",
    "\n",
    "/* USER CODE BEGIN 0 */\n",
    "\n",
    "void send_taskOne (void)\n",
    "{\n",
    "\n",
    "\t//uint8_t data[] = \"Reading Sensor from Task1\\r\\n\";\n",
    "\t//HAL_UART_Transmit(&huart3, data, sizeof(data), 500);\n",
    "}\n",
    "\n",
    "void send_taskTwo (void)\n",
    "{\n",
    "\tuint8_t data[] = \"Reading Sensor from Task2\\r\\n\";\n",
    "\tHAL_UART_Transmit(&huart3, data, sizeof(data), 500);\n",
    "}\n",
    "\n",
    "void send_taskThree (void)\n",
    "{\n",
    "\tuint8_t data[] = \"Reading Sensor from Task3\\r\\n\";\n",
    "\tHAL_UART_Transmit(&huart3, data, sizeof(data), 500);\n",
    "}\n",
    "\n",
    "void send_taskFour (void)\n",
    "{\n",
    "\tuint8_t data[] = \"Reading Sensor from Task4\\r\\n\";\n",
    "\tHAL_UART_Transmit(&huart3, data, sizeof(data), 500);\n",
    "}\n",
    "\n",
    "void ADC_Select_CH3(void)\n",
    "{\n",
    "\tADC_ChannelConfTypeDef sConfig = {0};\n",
    "\tsConfig.Channel = ADC_CHANNEL_3;\n",
    "\tsConfig.Rank = 1;\n",
    "\tsConfig.SamplingTime = ADC_SAMPLETIME_3CYCLES;\n",
    "\tif (HAL_ADC_ConfigChannel(&hadc1, &sConfig) != HAL_OK)\n",
    "\t  {\n",
    "\t    Error_Handler();\n",
    "\t  }\n",
    "}\n",
    "\n",
    "void ADC_Select_CH10(void)\n",
    "{\n",
    "\tADC_ChannelConfTypeDef sConfig = {0};\n",
    "\tsConfig.Channel = ADC_CHANNEL_10;\n",
    "\tsConfig.Rank = 1;\n",
    "\tsConfig.SamplingTime = ADC_SAMPLETIME_3CYCLES;\n",
    "\tif (HAL_ADC_ConfigChannel(&hadc1, &sConfig) != HAL_OK)\n",
    "\t  {\n",
    "\t    Error_Handler();\n",
    "\t  }\n",
    "}\n",
    "\n",
    "void ADC_Select_CH13(void)\n",
    "{\n",
    "\tADC_ChannelConfTypeDef sConfig = {0};\n",
    "\tsConfig.Channel = ADC_CHANNEL_13;\n",
    "\tsConfig.Rank = 1;\n",
    "\tsConfig.SamplingTime = ADC_SAMPLETIME_3CYCLES;\n",
    "\tif (HAL_ADC_ConfigChannel(&hadc1, &sConfig) != HAL_OK)\n",
    "\t  {\n",
    "\t    Error_Handler();\n",
    "\t  }\n",
    "}\n",
    "\n",
    "void ADC_Select_CH11(void)\n",
    "{\n",
    "\tADC_ChannelConfTypeDef sConfig = {0};\n",
    "\tsConfig.Channel = ADC_CHANNEL_11;\n",
    "\tsConfig.Rank = 1;\n",
    "\tsConfig.SamplingTime = ADC_SAMPLETIME_3CYCLES;\n",
    "\tif (HAL_ADC_ConfigChannel(&hadc1, &sConfig) != HAL_OK)\n",
    "\t  {\n",
    "\t    Error_Handler();\n",
    "\t  }\n",
    "}\n",
    "/* USER CODE END 0 */\n",
    "\n",
    "/* USER CODE END Header_StartTask1 */\n",
    "void StartTask1(void *argument)\n",
    "{\n",
    "  /* USER CODE BEGIN 5 */\n",
    "\tuint16_t raw;\n",
    "\tchar msg[10];\n",
    "\tchar hello[] = \"Temperature from Sensor 1: \\r\";\n",
    "\n",
    "  /* Infinite loop */\n",
    "  for(;;)\n",
    "  {\n",
    "\t  do{\n",
    "\t  send_taskOne();\n",
    "\t  ADC_Select_CH3();\n",
    "\t  HAL_ADC_Start(&hadc1);\n",
    "\t  HAL_ADC_PollForConversion(&hadc1, HAL_MAX_DELAY);\n",
    "\t  raw = HAL_ADC_GetValue(&hadc1);\n",
    "\t  uint16_t temp = raw/14;\n",
    "\n",
    "\t  printf(hello,\"c\");\n",
    "\t  HAL_UART_Transmit(&huart3, (uint8_t*)hello, strlen(hello), HAL_MAX_DELAY);\n",
    "\n",
    "\t  sprintf(msg,\"%hu\\r\\n\\n\",temp);\n",
    "\t  HAL_UART_Transmit(&huart3, (uint8_t*)msg, strlen(msg), HAL_MAX_DELAY);\n",
    "\n",
    "\t  HAL_ADC_Stop(&hadc1);\n",
    "\t  osDelay(3000);} while(raw != HAL_OK);\n",
    "\t  \n",
    "  }\n",
    "  /* USER CODE END 5 */\n",
    "}\n",
    "\n",
    "/* USER CODE END Header_StartTask2 */\n",
    "void StartTask2(void *argument)\n",
    "{\n",
    "  /* USER CODE BEGIN StartTask2 */\n",
    "\tuint16_t raw;\n",
    "\tchar msg[10];\n",
    "\tchar hello[] = \"Temperature from sensor 2: \\r\\n\";\n",
    "\n",
    "  /* Infinite loop */\n",
    "  for(;;)\n",
    "  {\n",
    "    do{\n",
    "\tsend_taskTwo();\n",
    "\tADC_Select_CH10();\n",
    "\tHAL_ADC_Start(&hadc1);\n",
    "\tHAL_ADC_PollForConversion(&hadc1, HAL_MAX_DELAY);\n",
    "\traw = HAL_ADC_GetValue(&hadc1);\n",
    "\tuint16_t temp = raw/14;\n",
    "\n",
    "\tHAL_UART_Transmit(&huart3, (uint8_t*)hello, sizeof(hello), HAL_MAX_DELAY);\n",
    "\tsprintf(msg,\"%hu\\r\\n\\n\",temp);\n",
    "\n",
    "\tHAL_UART_Transmit(&huart3, (uint8_t*)msg, strlen(msg), HAL_MAX_DELAY);\n",
    "\n",
    "\tHAL_ADC_Stop(&hadc1);\n",
    "\tosDelay(3000);} while(hello != HAL_OK);\n",
    "\n",
    "\t/*HAL_UART_Transmit(&huart3, (uint8_t*)hello, sizeof(hello), HAL_MAX_DELAY);\n",
    "    HAL_Delay(1000);*/\n",
    "\n",
    "  }\n",
    "  /* USER CODE END StartTask2 */\n",
    "}\n",
    "\n",
    "/* USER CODE END Header_StartTask3 */\n",
    "void StartTask3(void const * argument)\n",
    "{\n",
    "  /* USER CODE BEGIN StartTask3 */\n",
    "\tuint16_t raw;\n",
    "\tchar msg[10];\n",
    "\tchar hello[] = \"Temperature from sensor 3: \\r\\n\";\n",
    "  /* Infinite loop */\n",
    "  for(;;)\n",
    "  {\n",
    "\t  do{\n",
    "\t  \tsend_taskThree();\n",
    "\t  \tADC_Select_CH13();\n",
    "\t  \tHAL_ADC_Start(&hadc1);\n",
    "\t  \tHAL_ADC_PollForConversion(&hadc1, HAL_MAX_DELAY);\n",
    "\t  \traw = HAL_ADC_GetValue(&hadc1);\n",
    "\t  \tuint16_t temp = raw/14;\n",
    "\n",
    "\t  \tHAL_UART_Transmit(&huart3, (uint8_t*)hello, sizeof(hello), HAL_MAX_DELAY);\n",
    "\t  \tsprintf(msg,\"%hu\\r\\n\\n\",temp);\n",
    "\n",
    "\t  \tHAL_UART_Transmit(&huart3, (uint8_t*)msg, strlen(msg), HAL_MAX_DELAY);\n",
    "\n",
    "\t  \tHAL_ADC_Stop(&hadc1);\n",
    "\t  \tosDelay(3000);} while(hello != HAL_OK);\n",
    "  }\n",
    "  /* USER CODE END StartTask3 */\n",
    "}\n",
    "\n",
    "/* USER CODE END Header_StartTask4 */\n",
    "void StartTask4(void const * argument)\n",
    "{\n",
    "  /* USER CODE BEGIN StartTask4 */\n",
    "\tuint16_t raw;\n",
    "\tchar msg[10];\n",
    "\tchar hello[] = \"Temperature from sensor 4: \\r\\n\";\n",
    "  /* Infinite loop */\n",
    "  for(;;)\n",
    "  {\n",
    "\t  do{\n",
    "\t  \t  \tsend_taskFour();\n",
    "\t  \t  \tADC_Select_CH11();\n",
    "\t  \t  \tHAL_ADC_Start(&hadc1);\n",
    "\t  \t  \tHAL_ADC_PollForConversion(&hadc1, HAL_MAX_DELAY);\n",
    "\t  \t  \traw = HAL_ADC_GetValue(&hadc1);\n",
    "\t  \t  \tuint16_t temp = raw/14;\n",
    "\n",
    "\t  \t  \tHAL_UART_Transmit(&huart3, (uint8_t*)hello, sizeof(hello), HAL_MAX_DELAY);\n",
    "\t  \t  \tsprintf(msg,\"%hu\\r\\n\\n\",temp);\n",
    "\n",
    "\t  \t  \tHAL_UART_Transmit(&huart3, (uint8_t*)msg, strlen(msg), HAL_MAX_DELAY);\n",
    "\n",
    "\t  \t  \tHAL_ADC_Stop(&hadc1);\n",
    "\t  \t  \tosDelay(3000);} while(hello != HAL_OK);\n",
    "  }\n",
    "  /* USER CODE END StartTask4 */\n",
    "}"
   ]
  },
  {
   "cell_type": "markdown",
   "id": "6da93843",
   "metadata": {},
   "source": [
    "### <span style=\"color:blue\">Modelo Estático</span>\n",
    "<img src=\"../img/ModeloEstático.png\"  alt=\"Modelo Estático\" width=\"500\" eight=\"500\">"
   ]
  },
  {
   "cell_type": "markdown",
   "id": "b5dc9b30",
   "metadata": {},
   "source": [
    "### <span style=\"color:blue\">Modelo Dinámico</span>\n",
    "<img src=\"../img/ModeloDinámico.png\"  alt=\"Modelo Dinamico\" width=\"500\" eight=\"500\">"
   ]
  },
  {
   "cell_type": "markdown",
   "id": "kNP2idpr1bM3",
   "metadata": {
    "id": "kNP2idpr1bM3"
   },
   "source": [
    "### <span style=\"color:blue\">Referencias</span>\n",
    "\n",
    "Lady Ada. (2021). Adafruit ATWINC1500 Wifi Breakout. Adafruit Industries. \n",
    "\n",
    "Anonimo. (2020). UM1974 User manueal. ST life.augmented. "
   ]
  }
 ],
 "metadata": {
  "colab": {
   "provenance": []
  },
  "kernelspec": {
   "display_name": "Python 3 (ipykernel)",
   "language": "python",
   "name": "python3"
  },
  "language_info": {
   "codemirror_mode": {
    "name": "ipython",
    "version": 3
   },
   "file_extension": ".py",
   "mimetype": "text/x-python",
   "name": "python",
   "nbconvert_exporter": "python",
   "pygments_lexer": "ipython3",
   "version": "3.9.7"
  }
 },
 "nbformat": 4,
 "nbformat_minor": 5
}
